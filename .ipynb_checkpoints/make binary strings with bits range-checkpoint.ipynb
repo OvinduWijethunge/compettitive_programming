{
 "cells": [
  {
   "cell_type": "code",
   "execution_count": null,
   "metadata": {},
   "outputs": [],
   "source": [
    "def makeString(bits,num):\n",
    "    \n",
    "    def DecimalToBinary(num): \n",
    "        if num == 1:\n",
    "            list_x = [\"1\"]\n",
    "            return list_x\n",
    "        else:         \n",
    "            list_a = DecimalToBinary(num // 2) \n",
    "            mod = num % 2\n",
    "            list_a.append(str(mod))\n",
    "            return list_a \n",
    "\n",
    "\n",
    "    list_main = DecimalToBinary(24)\n",
    "    st = ''.join(list_main)\n",
    "    le  =len(st)\n",
    "    if bits < le:\n",
    "        print(\"bits lenght is not enough\")\n",
    "    else:\n",
    "        \n",
    "        rest = bits - le\n",
    "        zeros =\" \"\n",
    "        for i in range(rest):\n",
    "           \n",
    "            zeros=zeros+\"0\"\n",
    "        return (zeros+st).strip()    \n",
    "val = makeString(8,24)"
   ]
  }
 ],
 "metadata": {
  "kernelspec": {
   "display_name": "Python 3",
   "language": "python",
   "name": "python3"
  },
  "language_info": {
   "codemirror_mode": {
    "name": "ipython",
    "version": 3
   },
   "file_extension": ".py",
   "mimetype": "text/x-python",
   "name": "python",
   "nbconvert_exporter": "python",
   "pygments_lexer": "ipython3",
   "version": "3.8.0"
  }
 },
 "nbformat": 4,
 "nbformat_minor": 4
}
